{
 "cells": [
  {
   "cell_type": "code",
   "execution_count": 26,
   "metadata": {},
   "outputs": [
    {
     "name": "stdout",
     "output_type": "stream",
     "text": [
      "(min,max) =  (1, 9)\n"
     ]
    }
   ],
   "source": [
    "def find_min_max(A):\n",
    "    min = max = A[0]\n",
    "    \n",
    "    for x in A[1:]:\n",
    "        max = max if max > x else x\n",
    "        min = min if min < x else x\n",
    "    return min, max\n",
    "\n",
    "if __name__ == \"__main__\":\n",
    "    data = [ 5, 3, 8, 4, 9, 1, 6, 2, 7 ]\n",
    "    x, y = find_min_max(data)\n",
    "    print(\"(min,max) = \", (x,y))"
   ]
  },
  {
   "cell_type": "code",
   "execution_count": 27,
   "metadata": {},
   "outputs": [
    {
     "name": "stdout",
     "output_type": "stream",
     "text": [
      "sum =  45\n",
      "sum =  45\n",
      "\n",
      "sum =  3\n",
      "sum =  3\n",
      "\n",
      "sum =  25\n",
      "sum =  25\n"
     ]
    }
   ],
   "source": [
    "from multipledispatch import dispatch\n",
    "\n",
    "@dispatch(int)\n",
    "def sum_range(end):\n",
    "    sum = 0\n",
    "    for n in range(end):\n",
    "        sum += n\n",
    "    return sum\n",
    "@dispatch(int, int)\n",
    "def sum_range(begin, end):\n",
    "    sum = 0\n",
    "    (begin, end) = (begin, end) if begin <= end else (end, begin)\n",
    "    for n in range(begin, end):\n",
    "        sum += n\n",
    "    return sum\n",
    "@dispatch(int, int, int)\n",
    "def sum_range(begin, end, step=1):\n",
    "    sum = 0\n",
    "    (begin, end) = (begin, end) if begin <= end else (end, begin)\n",
    "    for n in range(begin, end, step):\n",
    "        sum += n\n",
    "    return sum\n",
    "\n",
    "if __name__ == \"__main__\":\n",
    "    print(\"sum = \", sum_range(10))\n",
    "    print(\"sum = \", sum_range(1, 10))\n",
    "    \n",
    "    print()\n",
    "    \n",
    "    print(\"sum = \", sum_range(3, 1))\n",
    "    print(\"sum = \", sum_range(1, 3))\n",
    "    \n",
    "    print()\n",
    "    \n",
    "    print(\"sum = \", sum_range(1, 10, 2))\n",
    "    print(\"sum = \", sum_range(10, 1, 2))"
   ]
  },
  {
   "cell_type": "code",
   "execution_count": 28,
   "metadata": {},
   "outputs": [
    {
     "name": "stdout",
     "output_type": "stream",
     "text": [
      "game  over\n"
     ]
    }
   ],
   "source": [
    "print(\"game \", end=\" \")\n",
    "print(\"over\")"
   ]
  },
  {
   "cell_type": "code",
   "execution_count": 29,
   "metadata": {},
   "outputs": [
    {
     "name": "stdout",
     "output_type": "stream",
     "text": [
      "game over\n"
     ]
    }
   ],
   "source": [
    "print(\"game \", \"over\", sep=\"\")"
   ]
  },
  {
   "cell_type": "code",
   "execution_count": 30,
   "metadata": {},
   "outputs": [
    {
     "name": "stdout",
     "output_type": "stream",
     "text": [
      "game \n",
      "over\n"
     ]
    }
   ],
   "source": [
    "print(\"game \")\n",
    "print('over')"
   ]
  },
  {
   "cell_type": "code",
   "execution_count": 31,
   "metadata": {},
   "outputs": [
    {
     "name": "stdout",
     "output_type": "stream",
     "text": [
      "7\n",
      "0\n"
     ]
    }
   ],
   "source": [
    "def scope():\n",
    "  print(b)\n",
    "  a = 10\n",
    "\n",
    "b = 7\n",
    "a = 0\n",
    "scope()\n",
    "print(a)"
   ]
  },
  {
   "cell_type": "code",
   "execution_count": 32,
   "metadata": {},
   "outputs": [
    {
     "name": "stdout",
     "output_type": "stream",
     "text": [
      "7\n",
      "10\n"
     ]
    }
   ],
   "source": [
    "def scope():\n",
    "  global a\n",
    "  print(b)\n",
    "  a = 10\n",
    "\n",
    "b = 7\n",
    "a = 0\n",
    "scope()\n",
    "print(a)"
   ]
  },
  {
   "cell_type": "code",
   "execution_count": 33,
   "metadata": {},
   "outputs": [
    {
     "name": "stdout",
     "output_type": "stream",
     "text": [
      "black : 0\n",
      "red : 50\n",
      "yellow : 0\n",
      "\n",
      "black : 10\n",
      "red : 40\n",
      "\n",
      "False\n",
      "True\n",
      "False\n",
      "True\n",
      "\n",
      "[car3] color = yellow, speed = 0\n"
     ]
    }
   ],
   "source": [
    "class Car :\n",
    "    def __init__(self, color, speed = 0) :\n",
    "        self.color = color\n",
    "        self.speed = speed\n",
    "\n",
    "    def speedUp(self):\n",
    "        self.speed += 10\n",
    "\n",
    "    def speedDown(self):\n",
    "        self.speed -= 10\n",
    "\n",
    "    # 2.11 연산자 중복\n",
    "    def isEqual(self, carB):\n",
    "        return self.color == carB.color\n",
    "    \n",
    "    def __eq__(self, carB):\n",
    "       return self.color == carB.color\n",
    "\n",
    "    def __str__(self):\n",
    "        return f'color = {self.color}, speed = {self.speed}'\n",
    "\n",
    "    def display(self):\n",
    "        print(f'{self.color} : {self.speed}')\n",
    "\n",
    "\n",
    "if __name__ == \"__main__\":\n",
    "    car1 = Car('black', 0)\n",
    "    car2 = Car('red', 50)\n",
    "    car3 = Car('yellow')\n",
    "\n",
    "    car1.display()\n",
    "    car2.display()\n",
    "    car3.display()\n",
    "\n",
    "    print()\n",
    "\n",
    "    car1.speedUp()\n",
    "    car2.speedDown()\n",
    "\n",
    "    car1.display()\n",
    "    car2.display()\n",
    "\n",
    "    print()\n",
    "    \n",
    "    # 2.11 연산자 중복 테스트\n",
    "    car4 = Car('red', 0)\n",
    "    \n",
    "    print(car1.isEqual(car4))   # False\n",
    "    print(car2.isEqual(car4))   # True\n",
    "    print(car1==car4)           # False\n",
    "    print(car2==car4)           # True\n",
    "    \n",
    "    print()\n",
    "    \n",
    "    print(\"[car3]\", car3)"
   ]
  },
  {
   "cell_type": "code",
   "execution_count": 34,
   "metadata": {},
   "outputs": [
    {
     "name": "stdout",
     "output_type": "stream",
     "text": [
      "슈퍼카1: [Gold] [speed = 50] 터보모드\n",
      "슈퍼카2: [White] [speed = 10] 일반모드\n",
      "\n",
      "True\n"
     ]
    }
   ],
   "source": [
    "class SuperCar(Car) :\n",
    "    def __init__(self, color, speed = 0, bTurbo = False) :\n",
    "        super().__init__(color, speed)\n",
    "        self.bTurbo = bTurbo\n",
    "\n",
    "    def setTurbo(self, bTurbo = True) :\n",
    "        self.bTurbo = bTurbo\n",
    "\n",
    "    def speedUp(self) :\n",
    "        if self.bTurbo :\n",
    "            self.speed += 50\n",
    "        else :\n",
    "            super().speedUp()\n",
    "\n",
    "    # str 연산자 중복\n",
    "    def __str__(self) :\n",
    "        return f\"[{self.color}] [speed = {self.speed}] {'터보모드' if self.bTurbo else '일반모드'}\"\n",
    "\n",
    "\n",
    "# 테스트 프로그램\n",
    "if __name__ == \"__main__\":\n",
    "    s1 = SuperCar(\"Gold\", 0, True)\n",
    "    s2 = SuperCar(\"White\", 0)\n",
    "    s3 = SuperCar(\"red\")\n",
    "    \n",
    "    s1.speedUp()\n",
    "    s2.speedUp()\n",
    "    \n",
    "    print(\"슈퍼카1:\", s1)\n",
    "    print(\"슈퍼카2:\", s2)\n",
    "    \n",
    "    print()\n",
    "    \n",
    "    print(car2 == s3)"
   ]
  },
  {
   "cell_type": "code",
   "execution_count": 35,
   "metadata": {},
   "outputs": [
    {
     "name": "stdout",
     "output_type": "stream",
     "text": [
      "10 [1, 1, 2, 2, 3, 3, 4, 4, 5, 5]\n",
      "6 [1, 1, 3, 3, 5, 5]\n"
     ]
    }
   ],
   "source": [
    "\n",
    "ls = [1, 1, 2, 2, 3, 3, 4, 4, 5, 5]\n",
    "\n",
    "print(len(ls), ls)\n",
    "\n",
    "# slicing을 이용해 for문에 복사된 ls를 사용해서\n",
    "# ls가 삭제되도 for문에는 이상이 없도록 동작\n",
    "for n in ls[:]:\n",
    "  if n % 2 == 0:\n",
    "    ls.remove(n)\n",
    "\n",
    "# list comprehension을 사용해서 filtering\n",
    "'''\n",
    "ls = [x for x in ls if x % 2 != 0]\n",
    "'''\n",
    "\n",
    "print(len(ls), ls)"
   ]
  }
 ],
 "metadata": {
  "kernelspec": {
   "display_name": "cg310",
   "language": "python",
   "name": "python3"
  },
  "language_info": {
   "codemirror_mode": {
    "name": "ipython",
    "version": 3
   },
   "file_extension": ".py",
   "mimetype": "text/x-python",
   "name": "python",
   "nbconvert_exporter": "python",
   "pygments_lexer": "ipython3",
   "version": "3.10.13"
  }
 },
 "nbformat": 4,
 "nbformat_minor": 2
}
